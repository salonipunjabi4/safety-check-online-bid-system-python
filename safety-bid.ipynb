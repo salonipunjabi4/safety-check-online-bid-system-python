{
 "cells": [
  {
   "cell_type": "markdown",
   "id": "162e4d19",
   "metadata": {},
   "source": [
    "# CECS 550 Pattern Recognition: Final Project\n",
    "\n",
    "### Presented By:\n",
    "Tejas Kale - 027960801<br>\n",
    "Mohit Patil - 027979274<br>\n",
    "Saloni Punjabi - 027983629<br>\n",
    "Rajendra Shivaraya - 029402631<br>\n",
    "Sharat Patangi - 029412160"
   ]
  },
  {
   "cell_type": "markdown",
   "id": "6d6fbb11",
   "metadata": {},
   "source": [
    "# 1. Introduction to the dataset and loading -"
   ]
  },
  {
   "cell_type": "markdown",
   "id": "1d604337",
   "metadata": {},
   "source": [
    "### 1.1 Source of the data from where the data is downloaded - \n",
    "#### The datasets used for the project are from the Kaggle Competition website: https://www.kaggle.com/c/facebook-recruiting-iv-human-or-bot/data \n",
    "#### It can also be downloaded from the following link:<br>\n",
    "https://csulb-my.sharepoint.com/:f:/g/personal/tejasjanardan_kale01_student_csulb_edu/EvVgC4Rg8f5Jj7RWykTmsAMBTqmvTp7k_Xdx_jsFPNTrPg?e=0pplzM\n",
    "\n",
    "### 1.2 Description of the dataset - \n",
    "#### The dataset contains bid data, training data and test data.\n",
    "#### 1. bidder_id: The id of bidder who made that particular bid.\n",
    "#### 2. payment_account: Account from which the payment is made.\n",
    "#### 3. address: Address from which the bid is made.\n",
    "#### 4. outcome: Outcome of the bid, 1 for robot and 0 for humans.\n",
    "#### 5. bid_id: Id of the bid made for the action.\n",
    "#### 6. auction: Unique identifier of an auction.\n",
    "#### 7. merchandise: The category of the auction site campaign.\n",
    "#### 8. device: Model of the device used.\n",
    "#### 9. time: Time at which the bid was placed.\n",
    "#### 10. country: Origin country of IP address.\n",
    "#### 11. ip: IP address of the bidder.\n",
    "#### 12. url: Referral url of the bidder.\n"
   ]
  },
  {
   "cell_type": "markdown",
   "id": "983dfa20",
   "metadata": {},
   "source": [
    "Importing necessary modules for the project "
   ]
  },
  {
   "cell_type": "code",
   "execution_count": 4,
   "id": "3ad19313",
   "metadata": {},
   "outputs": [],
   "source": [
    "import numpy as np\n",
    "import pandas as pd\n",
    "import seaborn as sns\n",
    "import matplotlib.pyplot as plt\n",
    "from sklearn.model_selection import KFold\n",
    "from sklearn.model_selection import cross_validate\n",
    "from sklearn.model_selection import GridSearchCV\n",
    "from sklearn.model_selection import RandomizedSearchCV\n",
    "from sklearn.metrics import accuracy_score\n",
    "from sklearn.model_selection import train_test_split\n",
    "from sklearn.ensemble import RandomForestClassifier\n",
    "import warnings\n",
    "from sklearn import preprocessing\n",
    "warnings.filterwarnings('ignore')\n",
    "import time\n",
    "import datetime\n",
    "import scipy.stats\n",
    "from sklearn.metrics import roc_curve, auc\n",
    "from sklearn.metrics import confusion_matrix\n",
    "from sklearn.metrics import classification_report\n",
    "from sklearn.neighbors import KNeighborsClassifier\n",
    "from sklearn.ensemble import GradientBoostingClassifier\n",
    "from sklearn import metrics\n"
   ]
  },
  {
   "cell_type": "markdown",
   "id": "a8c2d1c0",
   "metadata": {},
   "source": [
    "### 1.3 Loading the dataset from csv files -"
   ]
  },
  {
   "cell_type": "code",
   "execution_count": 5,
   "id": "8f762cc0",
   "metadata": {},
   "outputs": [],
   "source": [
    "bids_csv = pd.read_csv('bids.csv')"
   ]
  },
  {
   "cell_type": "code",
   "execution_count": 6,
   "id": "c7f5f6d1",
   "metadata": {},
   "outputs": [],
   "source": [
    "train_csv = pd.read_csv('train.csv')"
   ]
  },
  {
   "cell_type": "code",
   "execution_count": 7,
   "id": "1afa77c6",
   "metadata": {},
   "outputs": [],
   "source": [
    "test_csv = pd.read_csv('test.csv')"
   ]
  },
  {
   "cell_type": "code",
   "execution_count": 8,
   "id": "bc602688",
   "metadata": {},
   "outputs": [],
   "source": [
    "# Joining the train data set with full data set uing the merge() function using 'bidder_id' to join on\n",
    "\n",
    "bids = pd.merge(train_csv, bids_csv, on='bidder_id', how='left')\n",
    "\n",
    "# writing the merged dataset to file - new_bids.csv\n",
    "\n",
    "bids.to_csv(\"new_bids.csv\")\n",
    "\n",
    "# laoding the data from new_bids.csv\n",
    "bids_data = pd.read_csv(\"new_bids.csv\")\n"
   ]
  },
  {
   "cell_type": "code",
   "execution_count": 9,
   "id": "de01b93c",
   "metadata": {},
   "outputs": [
    {
     "data": {
      "text/html": [
       "<div>\n",
       "<style scoped>\n",
       "    .dataframe tbody tr th:only-of-type {\n",
       "        vertical-align: middle;\n",
       "    }\n",
       "\n",
       "    .dataframe tbody tr th {\n",
       "        vertical-align: top;\n",
       "    }\n",
       "\n",
       "    .dataframe thead th {\n",
       "        text-align: right;\n",
       "    }\n",
       "</style>\n",
       "<table border=\"1\" class=\"dataframe\">\n",
       "  <thead>\n",
       "    <tr style=\"text-align: right;\">\n",
       "      <th></th>\n",
       "      <th>Unnamed: 0</th>\n",
       "      <th>bidder_id</th>\n",
       "      <th>payment_account</th>\n",
       "      <th>address</th>\n",
       "      <th>outcome</th>\n",
       "      <th>bid_id</th>\n",
       "      <th>auction</th>\n",
       "      <th>merchandise</th>\n",
       "      <th>device</th>\n",
       "      <th>time</th>\n",
       "      <th>country</th>\n",
       "      <th>ip</th>\n",
       "      <th>url</th>\n",
       "    </tr>\n",
       "  </thead>\n",
       "  <tbody>\n",
       "    <tr>\n",
       "      <th>0</th>\n",
       "      <td>0</td>\n",
       "      <td>91a3c57b13234af24875c56fb7e2b2f4rb56a</td>\n",
       "      <td>a3d2de7675556553a5f08e4c88d2c228754av</td>\n",
       "      <td>a3d2de7675556553a5f08e4c88d2c228vt0u4</td>\n",
       "      <td>0.0</td>\n",
       "      <td>85371.0</td>\n",
       "      <td>yitr4</td>\n",
       "      <td>home goods</td>\n",
       "      <td>phone35</td>\n",
       "      <td>9.759489e+15</td>\n",
       "      <td>ke</td>\n",
       "      <td>82.34.177.248</td>\n",
       "      <td>vasstdc27m7nks3</td>\n",
       "    </tr>\n",
       "    <tr>\n",
       "      <th>1</th>\n",
       "      <td>1</td>\n",
       "      <td>91a3c57b13234af24875c56fb7e2b2f4rb56a</td>\n",
       "      <td>a3d2de7675556553a5f08e4c88d2c228754av</td>\n",
       "      <td>a3d2de7675556553a5f08e4c88d2c228vt0u4</td>\n",
       "      <td>0.0</td>\n",
       "      <td>274487.0</td>\n",
       "      <td>btpyy</td>\n",
       "      <td>home goods</td>\n",
       "      <td>phone1004</td>\n",
       "      <td>9.760249e+15</td>\n",
       "      <td>zm</td>\n",
       "      <td>202.130.71.167</td>\n",
       "      <td>vasstdc27m7nks3</td>\n",
       "    </tr>\n",
       "    <tr>\n",
       "      <th>2</th>\n",
       "      <td>2</td>\n",
       "      <td>91a3c57b13234af24875c56fb7e2b2f4rb56a</td>\n",
       "      <td>a3d2de7675556553a5f08e4c88d2c228754av</td>\n",
       "      <td>a3d2de7675556553a5f08e4c88d2c228vt0u4</td>\n",
       "      <td>0.0</td>\n",
       "      <td>527436.0</td>\n",
       "      <td>kj2ko</td>\n",
       "      <td>home goods</td>\n",
       "      <td>phone4</td>\n",
       "      <td>9.762261e+15</td>\n",
       "      <td>ke</td>\n",
       "      <td>22.54.76.225</td>\n",
       "      <td>vasstdc27m7nks3</td>\n",
       "    </tr>\n",
       "    <tr>\n",
       "      <th>3</th>\n",
       "      <td>3</td>\n",
       "      <td>91a3c57b13234af24875c56fb7e2b2f4rb56a</td>\n",
       "      <td>a3d2de7675556553a5f08e4c88d2c228754av</td>\n",
       "      <td>a3d2de7675556553a5f08e4c88d2c228vt0u4</td>\n",
       "      <td>0.0</td>\n",
       "      <td>554135.0</td>\n",
       "      <td>1m5t8</td>\n",
       "      <td>home goods</td>\n",
       "      <td>phone4</td>\n",
       "      <td>9.762431e+15</td>\n",
       "      <td>ke</td>\n",
       "      <td>32.13.237.126</td>\n",
       "      <td>vasstdc27m7nks3</td>\n",
       "    </tr>\n",
       "    <tr>\n",
       "      <th>4</th>\n",
       "      <td>4</td>\n",
       "      <td>91a3c57b13234af24875c56fb7e2b2f4rb56a</td>\n",
       "      <td>a3d2de7675556553a5f08e4c88d2c228754av</td>\n",
       "      <td>a3d2de7675556553a5f08e4c88d2c228vt0u4</td>\n",
       "      <td>0.0</td>\n",
       "      <td>607628.0</td>\n",
       "      <td>btpyy</td>\n",
       "      <td>home goods</td>\n",
       "      <td>phone4</td>\n",
       "      <td>9.762789e+15</td>\n",
       "      <td>ke</td>\n",
       "      <td>202.236.188.240</td>\n",
       "      <td>vasstdc27m7nks3</td>\n",
       "    </tr>\n",
       "  </tbody>\n",
       "</table>\n",
       "</div>"
      ],
      "text/plain": [
       "   Unnamed: 0                              bidder_id  \\\n",
       "0           0  91a3c57b13234af24875c56fb7e2b2f4rb56a   \n",
       "1           1  91a3c57b13234af24875c56fb7e2b2f4rb56a   \n",
       "2           2  91a3c57b13234af24875c56fb7e2b2f4rb56a   \n",
       "3           3  91a3c57b13234af24875c56fb7e2b2f4rb56a   \n",
       "4           4  91a3c57b13234af24875c56fb7e2b2f4rb56a   \n",
       "\n",
       "                         payment_account  \\\n",
       "0  a3d2de7675556553a5f08e4c88d2c228754av   \n",
       "1  a3d2de7675556553a5f08e4c88d2c228754av   \n",
       "2  a3d2de7675556553a5f08e4c88d2c228754av   \n",
       "3  a3d2de7675556553a5f08e4c88d2c228754av   \n",
       "4  a3d2de7675556553a5f08e4c88d2c228754av   \n",
       "\n",
       "                                 address  outcome    bid_id auction  \\\n",
       "0  a3d2de7675556553a5f08e4c88d2c228vt0u4      0.0   85371.0   yitr4   \n",
       "1  a3d2de7675556553a5f08e4c88d2c228vt0u4      0.0  274487.0   btpyy   \n",
       "2  a3d2de7675556553a5f08e4c88d2c228vt0u4      0.0  527436.0   kj2ko   \n",
       "3  a3d2de7675556553a5f08e4c88d2c228vt0u4      0.0  554135.0   1m5t8   \n",
       "4  a3d2de7675556553a5f08e4c88d2c228vt0u4      0.0  607628.0   btpyy   \n",
       "\n",
       "  merchandise     device          time country               ip  \\\n",
       "0  home goods    phone35  9.759489e+15      ke    82.34.177.248   \n",
       "1  home goods  phone1004  9.760249e+15      zm   202.130.71.167   \n",
       "2  home goods     phone4  9.762261e+15      ke     22.54.76.225   \n",
       "3  home goods     phone4  9.762431e+15      ke    32.13.237.126   \n",
       "4  home goods     phone4  9.762789e+15      ke  202.236.188.240   \n",
       "\n",
       "               url  \n",
       "0  vasstdc27m7nks3  \n",
       "1  vasstdc27m7nks3  \n",
       "2  vasstdc27m7nks3  \n",
       "3  vasstdc27m7nks3  \n",
       "4  vasstdc27m7nks3  "
      ]
     },
     "execution_count": 9,
     "metadata": {},
     "output_type": "execute_result"
    }
   ],
   "source": [
    "bids_data.head()"
   ]
  },
  {
   "cell_type": "markdown",
   "id": "04006fea",
   "metadata": {},
   "source": [
    "### 1.4 Data Cleaning and Preprocessing -"
   ]
  },
  {
   "cell_type": "markdown",
   "id": "89710a2b",
   "metadata": {},
   "source": [
    "Description of data information"
   ]
  },
  {
   "cell_type": "code",
   "execution_count": 10,
   "id": "ce6964f4",
   "metadata": {},
   "outputs": [
    {
     "name": "stdout",
     "output_type": "stream",
     "text": [
      "<class 'pandas.core.frame.DataFrame'>\n",
      "RangeIndex: 3071253 entries, 0 to 3071252\n",
      "Data columns (total 13 columns):\n",
      " #   Column           Dtype  \n",
      "---  ------           -----  \n",
      " 0   Unnamed: 0       int64  \n",
      " 1   bidder_id        object \n",
      " 2   payment_account  object \n",
      " 3   address          object \n",
      " 4   outcome          float64\n",
      " 5   bid_id           float64\n",
      " 6   auction          object \n",
      " 7   merchandise      object \n",
      " 8   device           object \n",
      " 9   time             float64\n",
      " 10  country          object \n",
      " 11  ip               object \n",
      " 12  url              object \n",
      "dtypes: float64(3), int64(1), object(9)\n",
      "memory usage: 304.6+ MB\n"
     ]
    }
   ],
   "source": [
    "bids_data.info()"
   ]
  },
  {
   "cell_type": "code",
   "execution_count": 11,
   "id": "25afff0b",
   "metadata": {},
   "outputs": [
    {
     "data": {
      "text/html": [
       "<div>\n",
       "<style scoped>\n",
       "    .dataframe tbody tr th:only-of-type {\n",
       "        vertical-align: middle;\n",
       "    }\n",
       "\n",
       "    .dataframe tbody tr th {\n",
       "        vertical-align: top;\n",
       "    }\n",
       "\n",
       "    .dataframe thead th {\n",
       "        text-align: right;\n",
       "    }\n",
       "</style>\n",
       "<table border=\"1\" class=\"dataframe\">\n",
       "  <thead>\n",
       "    <tr style=\"text-align: right;\">\n",
       "      <th></th>\n",
       "      <th>count</th>\n",
       "      <th>mean</th>\n",
       "      <th>std</th>\n",
       "      <th>min</th>\n",
       "      <th>25%</th>\n",
       "      <th>50%</th>\n",
       "      <th>75%</th>\n",
       "      <th>max</th>\n",
       "    </tr>\n",
       "  </thead>\n",
       "  <tbody>\n",
       "    <tr>\n",
       "      <th>Unnamed: 0</th>\n",
       "      <td>3071253.0</td>\n",
       "      <td>1.535626e+06</td>\n",
       "      <td>8.865945e+05</td>\n",
       "      <td>0.000000e+00</td>\n",
       "      <td>7.678130e+05</td>\n",
       "      <td>1.535626e+06</td>\n",
       "      <td>2.303439e+06</td>\n",
       "      <td>3.071252e+06</td>\n",
       "    </tr>\n",
       "    <tr>\n",
       "      <th>outcome</th>\n",
       "      <td>3071253.0</td>\n",
       "      <td>1.342827e-01</td>\n",
       "      <td>3.409558e-01</td>\n",
       "      <td>0.000000e+00</td>\n",
       "      <td>0.000000e+00</td>\n",
       "      <td>0.000000e+00</td>\n",
       "      <td>0.000000e+00</td>\n",
       "      <td>1.000000e+00</td>\n",
       "    </tr>\n",
       "    <tr>\n",
       "      <th>bid_id</th>\n",
       "      <td>3071224.0</td>\n",
       "      <td>3.838444e+06</td>\n",
       "      <td>2.191845e+06</td>\n",
       "      <td>1.000000e+00</td>\n",
       "      <td>1.946030e+06</td>\n",
       "      <td>3.836413e+06</td>\n",
       "      <td>5.707636e+06</td>\n",
       "      <td>7.656331e+06</td>\n",
       "    </tr>\n",
       "    <tr>\n",
       "      <th>time</th>\n",
       "      <td>3071224.0</td>\n",
       "      <td>9.696606e+15</td>\n",
       "      <td>5.256340e+13</td>\n",
       "      <td>9.631917e+15</td>\n",
       "      <td>9.640958e+15</td>\n",
       "      <td>9.700339e+15</td>\n",
       "      <td>9.761303e+15</td>\n",
       "      <td>9.772885e+15</td>\n",
       "    </tr>\n",
       "  </tbody>\n",
       "</table>\n",
       "</div>"
      ],
      "text/plain": [
       "                count          mean           std           min           25%  \\\n",
       "Unnamed: 0  3071253.0  1.535626e+06  8.865945e+05  0.000000e+00  7.678130e+05   \n",
       "outcome     3071253.0  1.342827e-01  3.409558e-01  0.000000e+00  0.000000e+00   \n",
       "bid_id      3071224.0  3.838444e+06  2.191845e+06  1.000000e+00  1.946030e+06   \n",
       "time        3071224.0  9.696606e+15  5.256340e+13  9.631917e+15  9.640958e+15   \n",
       "\n",
       "                     50%           75%           max  \n",
       "Unnamed: 0  1.535626e+06  2.303439e+06  3.071252e+06  \n",
       "outcome     0.000000e+00  0.000000e+00  1.000000e+00  \n",
       "bid_id      3.836413e+06  5.707636e+06  7.656331e+06  \n",
       "time        9.700339e+15  9.761303e+15  9.772885e+15  "
      ]
     },
     "execution_count": 11,
     "metadata": {},
     "output_type": "execute_result"
    }
   ],
   "source": [
    "bids_data.describe().T"
   ]
  },
  {
   "cell_type": "code",
   "execution_count": 12,
   "id": "4af12615",
   "metadata": {},
   "outputs": [
    {
     "data": {
      "text/plain": [
       "Unnamed: 0            0\n",
       "bidder_id             0\n",
       "payment_account       0\n",
       "address               0\n",
       "outcome               0\n",
       "bid_id               29\n",
       "auction              29\n",
       "merchandise          29\n",
       "device               29\n",
       "time                 29\n",
       "country            2730\n",
       "ip                   29\n",
       "url                  29\n",
       "dtype: int64"
      ]
     },
     "execution_count": 12,
     "metadata": {},
     "output_type": "execute_result"
    }
   ],
   "source": [
    "# find the sum of the null values if any\n",
    "bids_data.isnull().sum()"
   ]
  },
  {
   "cell_type": "code",
   "execution_count": 13,
   "id": "4e750d43",
   "metadata": {},
   "outputs": [
    {
     "data": {
      "text/plain": [
       "Unnamed: 0         False\n",
       "bidder_id          False\n",
       "payment_account    False\n",
       "address            False\n",
       "outcome            False\n",
       "bid_id              True\n",
       "auction             True\n",
       "merchandise         True\n",
       "device              True\n",
       "time                True\n",
       "country             True\n",
       "ip                  True\n",
       "url                 True\n",
       "dtype: bool"
      ]
     },
     "execution_count": 13,
     "metadata": {},
     "output_type": "execute_result"
    }
   ],
   "source": [
    "# Check for any null values\n",
    "pd.isnull(bids_data).any()"
   ]
  },
  {
   "cell_type": "markdown",
   "id": "deeaac84",
   "metadata": {},
   "source": [
    "### 1.5 Handling Missing Values -\n",
    "This will check for any missing bidder_id in the data or if any of it's components are missing.\n"
   ]
  },
  {
   "cell_type": "code",
   "execution_count": 14,
   "id": "d54594a7",
   "metadata": {},
   "outputs": [
    {
     "name": "stdout",
     "output_type": "stream",
     "text": [
      "Length calculated of missing bids:  29\n"
     ]
    }
   ],
   "source": [
    "missing_bids_train_csv = bids_data[pd.isnull(bids_data['bid_id'])]['bidder_id'].unique()\n",
    "print(\"Length calculated of missing bids: \",len(missing_bids_train_csv))"
   ]
  },
  {
   "cell_type": "code",
   "execution_count": 15,
   "id": "71f70d45",
   "metadata": {},
   "outputs": [
    {
     "data": {
      "text/plain": [
       "17583      0.0\n",
       "42424      0.0\n",
       "129439     0.0\n",
       "214915     0.0\n",
       "221776     0.0\n",
       "226432     0.0\n",
       "255107     0.0\n",
       "305088     0.0\n",
       "333331     0.0\n",
       "409451     0.0\n",
       "654549     0.0\n",
       "657208     0.0\n",
       "788183     0.0\n",
       "790914     0.0\n",
       "794927     0.0\n",
       "810369     0.0\n",
       "883351     0.0\n",
       "1018748    0.0\n",
       "1019599    0.0\n",
       "1021349    0.0\n",
       "1123023    0.0\n",
       "1139921    0.0\n",
       "1217466    0.0\n",
       "1465813    0.0\n",
       "1482542    0.0\n",
       "1648201    0.0\n",
       "1974826    0.0\n",
       "2139077    0.0\n",
       "2999380    0.0\n",
       "Name: outcome, dtype: float64"
      ]
     },
     "execution_count": 15,
     "metadata": {},
     "output_type": "execute_result"
    }
   ],
   "source": [
    "bids_data[bids_data['bidder_id'].isin(missing_bids_train_csv)]['outcome']"
   ]
  },
  {
   "cell_type": "code",
   "execution_count": 16,
   "id": "356141e6",
   "metadata": {},
   "outputs": [],
   "source": [
    "# For all missing values, dropping the observation\n",
    "bids = bids_data[~bids_data['bidder_id'].isin(missing_bids_train_csv)]"
   ]
  },
  {
   "cell_type": "code",
   "execution_count": 17,
   "id": "7d95c680",
   "metadata": {},
   "outputs": [
    {
     "data": {
      "text/plain": [
       "Unnamed: 0         False\n",
       "bidder_id          False\n",
       "payment_account    False\n",
       "address            False\n",
       "outcome            False\n",
       "bid_id             False\n",
       "auction            False\n",
       "merchandise        False\n",
       "device             False\n",
       "time               False\n",
       "country             True\n",
       "ip                 False\n",
       "url                False\n",
       "dtype: bool"
      ]
     },
     "execution_count": 17,
     "metadata": {},
     "output_type": "execute_result"
    }
   ],
   "source": [
    "# check for any missing values in the dataframe\n",
    "pd.isnull(bids).any()"
   ]
  },
  {
   "cell_type": "markdown",
   "id": "018fffbb",
   "metadata": {},
   "source": [
    "Removing all the null values from the dataframe."
   ]
  },
  {
   "cell_type": "code",
   "execution_count": 18,
   "id": "2b48d93c",
   "metadata": {},
   "outputs": [],
   "source": [
    "bids = bids.dropna()"
   ]
  },
  {
   "cell_type": "markdown",
   "id": "a57ef0ed",
   "metadata": {},
   "source": [
    "Checking if there are any missing values in 'bids' dataframe."
   ]
  },
  {
   "cell_type": "code",
   "execution_count": 19,
   "id": "a3b8a8b5",
   "metadata": {},
   "outputs": [
    {
     "data": {
      "text/plain": [
       "Unnamed: 0         False\n",
       "bidder_id          False\n",
       "payment_account    False\n",
       "address            False\n",
       "outcome            False\n",
       "bid_id             False\n",
       "auction            False\n",
       "merchandise        False\n",
       "device             False\n",
       "time               False\n",
       "country            False\n",
       "ip                 False\n",
       "url                False\n",
       "dtype: bool"
      ]
     },
     "execution_count": 19,
     "metadata": {},
     "output_type": "execute_result"
    }
   ],
   "source": [
    "pd.isnull(bids).any()"
   ]
  },
  {
   "cell_type": "markdown",
   "id": "1fbc6540",
   "metadata": {},
   "source": [
    "# 2. Goal of the project -\n",
    "\n",
    "#### The goal of this project is to use machine learning approaches to determine whether an online bid is made by a machine (a bot) or a human. \n",
    "#### This will aid in the end to unfair auction practices. We hope to provide some data about bidding information and information about bidders by using machine learning techniques to discover patterns in the bids made by the bots."
   ]
  },
  {
   "cell_type": "markdown",
   "id": "dc130f2e",
   "metadata": {},
   "source": [
    "# 3. Exploratory data analysis -"
   ]
  },
  {
   "cell_type": "markdown",
   "id": "32f3be53",
   "metadata": {},
   "source": [
    "### 3.1 Visualize your data for the numbers & 3.2 Distribution of fields in the dataset -"
   ]
  },
  {
   "cell_type": "markdown",
   "id": "97e50916",
   "metadata": {},
   "source": [
    " Comparision of numbers of bids made by humans vs robots."
   ]
  },
  {
   "cell_type": "code",
   "execution_count": 20,
   "id": "279028ba",
   "metadata": {},
   "outputs": [
    {
     "name": "stdout",
     "output_type": "stream",
     "text": [
      "Following is the number of bids made by robots: 412153\n",
      "Following is the number of bids made by humans:  2656370\n"
     ]
    }
   ],
   "source": [
    "print(f\"Following is the number of bids made by robots: {len(bids[bids['outcome'] == 1])}\")\n",
    "print(f\"Following is the number of bids made by humans:  {len(bids[bids['outcome'] == 0])}\")"
   ]
  },
  {
   "cell_type": "code",
   "execution_count": 21,
   "id": "f9649cfa",
   "metadata": {},
   "outputs": [
    {
     "name": "stdout",
     "output_type": "stream",
     "text": [
      "Count of rows:          3068523\n",
      "Count of bids:         3068523\n",
      "Count of bidders:      1983\n",
      "Count of payment accounts:     1983\n",
      "Count of addresses:     1983\n",
      "Count of auctions:     12740\n",
      "Count of IPs:          1028810\n",
      "Count of URLs:         663265\n",
      "Count of devices:      5726\n",
      "Count of countries:     198\n",
      "Count of merchandises: 10\n"
     ]
    }
   ],
   "source": [
    "print(f\"Count of rows:          {len(bids)}\")\n",
    "print(f\"Count of bids:         {len(bids['bid_id'].unique())}\")\n",
    "print(f\"Count of bidders:      {len(bids['bidder_id'].unique())}\")\n",
    "print(f\"Count of payment accounts:     {len(bids['payment_account'].unique())}\")\n",
    "print(f\"Count of addresses:     {len(bids['address'].unique())}\")\n",
    "print(f\"Count of auctions:     {len(bids['auction'].unique())}\")\n",
    "print(f\"Count of IPs:          {len(bids['ip'].unique())}\")\n",
    "print(f\"Count of URLs:         {len(bids['url'].unique())}\")\n",
    "print(f\"Count of devices:      {len(bids['device'].unique())}\")\n",
    "print(f\"Count of countries:     {len(bids['country'].unique())}\")\n",
    "print(f\"Count of merchandises: {len(bids['merchandise'].unique())}\")\n"
   ]
  },
  {
   "cell_type": "markdown",
   "id": "2e03cca3",
   "metadata": {},
   "source": [
    "### 3.3 Plot some variables over the others to find their relationships."
   ]
  },
  {
   "cell_type": "markdown",
   "id": "5daccd21",
   "metadata": {},
   "source": [
    "Ratio of numbers of bids made by human v/s robot"
   ]
  },
  {
   "cell_type": "code",
   "execution_count": 22,
   "id": "1121fb81",
   "metadata": {},
   "outputs": [
    {
     "data": {
      "text/plain": [
       "0.15515647293110524"
      ]
     },
     "execution_count": 22,
     "metadata": {},
     "output_type": "execute_result"
    }
   ],
   "source": [
    "bid_ratio = len(bids[bids['outcome'] == 1])/len(bids[bids['outcome'] == 0])\n",
    "bid_ratio"
   ]
  },
  {
   "cell_type": "markdown",
   "id": "0a4e37fc",
   "metadata": {},
   "source": [
    "Histogram plotting to show relationships"
   ]
  },
  {
   "cell_type": "code",
   "execution_count": 23,
   "id": "0677bf3e",
   "metadata": {},
   "outputs": [
    {
     "data": {
      "image/png": "[encoded data removed]",
      "text/plain": [
       "<Figure size 720x720 with 4 Axes>"
      ]
     },
     "metadata": {
      "needs_background": "light"
     },
     "output_type": "display_data"
    }
   ],
   "source": [
    "post_cleaning = bids.hist(figsize = (10,10))"
   ]
  },
  {
   "cell_type": "markdown",
   "id": "0439b711",
   "metadata": {},
   "source": [
    "Feature extraction and selection."
   ]
  },
  {
   "cell_type": "code",
   "execution_count": 24,
   "id": "6ff49d47",
   "metadata": {},
   "outputs": [],
   "source": [
    "# finding out entropy of the bids_data\n",
    "def entropy_value(bids_data):\n",
    "    p_data = bids_data.value_counts()/len(bids_data)  \n",
    "    entropy_value = scipy.stats.entropy(p_data)\n",
    "    return entropy_value"
   ]
  },
  {
   "cell_type": "markdown",
   "id": "9a2313ba",
   "metadata": {},
   "source": [
    "Calculating the bidding time difference - per user (bidder_id)"
   ]
  },
  {
   "cell_type": "code",
   "execution_count": 25,
   "id": "873295fd",
   "metadata": {},
   "outputs": [],
   "source": [
    "bids = bids.sort_values(by=['time'])\n",
    "bids['timediffs'] = bids.groupby('bidder_id')['time'].transform(pd.Series.diff)"
   ]
  },
  {
   "cell_type": "markdown",
   "id": "53ecb5bc",
   "metadata": {},
   "source": [
    "Find the number of bids a user made in each auction and convert into a frame"
   ]
  },
  {
   "cell_type": "code",
   "execution_count": 26,
   "id": "f32e308a",
   "metadata": {},
   "outputs": [],
   "source": [
    "bids_PerAuction = bids.groupby(['auction', 'bidder_id']).size()\n",
    "bids_PerAuction = bids_PerAuction.to_frame()"
   ]
  },
  {
   "cell_type": "markdown",
   "id": "a59ed927",
   "metadata": {},
   "source": [
    "Find the proportion of bots for each country and convert into a frame and fill null values with 0"
   ]
  },
  {
   "cell_type": "code",
   "execution_count": 27,
   "id": "4330b921",
   "metadata": {},
   "outputs": [],
   "source": [
    "pbots_per_country = bids[bids['outcome'] == 1].groupby('country').size()/bids.groupby('country').size()\n",
    "pbots_per_country = pbots_per_country.fillna(0)\n",
    "pbots_per_country = pbots_per_country.to_frame()"
   ]
  },
  {
   "cell_type": "markdown",
   "id": "0790fa15",
   "metadata": {},
   "source": [
    "Find the proportion of bots per device and convert into a frame and fill null values with 0"
   ]
  },
  {
   "cell_type": "code",
   "execution_count": 28,
   "id": "cf3c6020",
   "metadata": {},
   "outputs": [],
   "source": [
    "pbots_per_device = bids[bids['outcome'] == 1].groupby('device').size()/bids.groupby('device').size()\n",
    "pbots_per_device = pbots_per_device.fillna(0)\n",
    "pbots_per_device = pbots_per_device.to_frame()"
   ]
  },
  {
   "cell_type": "markdown",
   "id": "7e7a4052",
   "metadata": {},
   "source": [
    "Find the number of unique IPs used for the bid to number of bids ratio and convert into a frame"
   ]
  },
  {
   "cell_type": "code",
   "execution_count": 29,
   "id": "3cf4ab9d",
   "metadata": {},
   "outputs": [],
   "source": [
    "ipToBids_Ratio = bids.groupby('bidder_id')['ip'].nunique()/bids.groupby('bidder_id')['bid_id'].nunique()\n",
    "ipToBids_Ratio = ipToBids_Ratio.to_frame()"
   ]
  },
  {
   "cell_type": "markdown",
   "id": "a1b06601",
   "metadata": {},
   "source": [
    "Mean per auction url entropy for each user and group by bidder_id"
   ]
  },
  {
   "cell_type": "code",
   "execution_count": 30,
   "id": "e98cdbd7",
   "metadata": {},
   "outputs": [],
   "source": [
    "auctionUrl_entropy = bids.groupby(['auction', 'bidder_id'])['url'].apply(entropy_value)\n",
    "auctionUrl_entropy = auctionUrl_entropy.groupby('bidder_id').mean().reset_index()"
   ]
  },
  {
   "cell_type": "markdown",
   "id": "6ad81dad",
   "metadata": {},
   "source": [
    "Merge the features back in one dataframe"
   ]
  },
  {
   "cell_type": "code",
   "execution_count": 31,
   "id": "235fc195",
   "metadata": {},
   "outputs": [],
   "source": [
    "bids = pd.merge(bids, bids_PerAuction, on=['auction', 'bidder_id'], how='left')\n",
    "bids = pd.merge(bids, pbots_per_country, on='country', how='left')\n",
    "bids = pd.merge(bids, pbots_per_device, on='device', how='left')\n",
    "bids = pd.merge(bids, ipToBids_Ratio, on='bidder_id', how='left')\n",
    "bids = pd.merge(bids, auctionUrl_entropy, on='bidder_id', how='left')"
   ]
  },
  {
   "cell_type": "markdown",
   "id": "408e27c6",
   "metadata": {},
   "source": [
    "Set column names"
   ]
  },
  {
   "cell_type": "code",
   "execution_count": 32,
   "id": "789ccd27",
   "metadata": {},
   "outputs": [],
   "source": [
    "bids.columns = ['Unnamed: 0', 'bidder_id', 'payment_account', 'address', 'outcome',\n",
    "               'bid_id', 'auction', 'merchandise', 'device', 'time', 'country',\n",
    "               'ip', 'url', 'timediffs', 'bids_PerAuction', 'pbots_per_country', 'pbots_per_device',\n",
    "               'ipToBids_Ratio', 'auctionUrl_entropy']"
   ]
  },
  {
   "cell_type": "code",
   "execution_count": 33,
   "id": "4c3766a0",
   "metadata": {},
   "outputs": [
    {
     "data": {
      "text/html": [
       "<div>\n",
       "<style scoped>\n",
       "    .dataframe tbody tr th:only-of-type {\n",
       "        vertical-align: middle;\n",
       "    }\n",
       "\n",
       "    .dataframe tbody tr th {\n",
       "        vertical-align: top;\n",
       "    }\n",
       "\n",
       "    .dataframe thead th {\n",
       "        text-align: right;\n",
       "    }\n",
       "</style>\n",
       "<table border=\"1\" class=\"dataframe\">\n",
       "  <thead>\n",
       "    <tr style=\"text-align: right;\">\n",
       "      <th></th>\n",
       "      <th>Unnamed: 0</th>\n",
       "      <th>bidder_id</th>\n",
       "      <th>payment_account</th>\n",
       "      <th>address</th>\n",
       "      <th>outcome</th>\n",
       "      <th>bid_id</th>\n",
       "      <th>auction</th>\n",
       "      <th>merchandise</th>\n",
       "      <th>device</th>\n",
       "      <th>time</th>\n",
       "      <th>country</th>\n",
       "      <th>ip</th>\n",
       "      <th>url</th>\n",
       "      <th>timediffs</th>\n",
       "      <th>bids_PerAuction</th>\n",
       "      <th>pbots_per_country</th>\n",
       "      <th>pbots_per_device</th>\n",
       "      <th>ipToBids_Ratio</th>\n",
       "      <th>auctionUrl_entropy</th>\n",
       "    </tr>\n",
       "  </thead>\n",
       "  <tbody>\n",
       "    <tr>\n",
       "      <th>0</th>\n",
       "      <td>255212</td>\n",
       "      <td>76218e14c379c12d599dae9e1c00b61a3i5b2</td>\n",
       "      <td>a3d2de7675556553a5f08e4c88d2c228sjo4q</td>\n",
       "      <td>ca8d4b018cb62966eebb2974f5a83b4fstk6z</td>\n",
       "      <td>0.0</td>\n",
       "      <td>2351187.0</td>\n",
       "      <td>6hpvy</td>\n",
       "      <td>sporting goods</td>\n",
       "      <td>phone1161</td>\n",
       "      <td>9.631917e+15</td>\n",
       "      <td>cz</td>\n",
       "      <td>121.169.96.51</td>\n",
       "      <td>f33fl83l4vrg6is</td>\n",
       "      <td>NaN</td>\n",
       "      <td>368</td>\n",
       "      <td>0.089199</td>\n",
       "      <td>0.020161</td>\n",
       "      <td>0.178624</td>\n",
       "      <td>1.463760</td>\n",
       "    </tr>\n",
       "    <tr>\n",
       "      <th>1</th>\n",
       "      <td>1021717</td>\n",
       "      <td>6e178db6d17d21aa88aaca5bf15c2761lc500</td>\n",
       "      <td>a3d2de7675556553a5f08e4c88d2c228mqaf6</td>\n",
       "      <td>0d11440b07e5e2c8550af74b728ab4edk47gk</td>\n",
       "      <td>0.0</td>\n",
       "      <td>2351200.0</td>\n",
       "      <td>jqx39</td>\n",
       "      <td>jewelry</td>\n",
       "      <td>phone99</td>\n",
       "      <td>9.631917e+15</td>\n",
       "      <td>sa</td>\n",
       "      <td>174.12.78.255</td>\n",
       "      <td>omwhmwzvrn6ycq6</td>\n",
       "      <td>NaN</td>\n",
       "      <td>15452</td>\n",
       "      <td>0.177281</td>\n",
       "      <td>0.055360</td>\n",
       "      <td>0.583490</td>\n",
       "      <td>0.885604</td>\n",
       "    </tr>\n",
       "    <tr>\n",
       "      <th>2</th>\n",
       "      <td>1648618</td>\n",
       "      <td>197e90906939267ace2422e78e8e83889znqp</td>\n",
       "      <td>faef6512727719c3dd147a06ba951c947c4fn</td>\n",
       "      <td>dd7151709002fc3dce968916d8ec00ede03vc</td>\n",
       "      <td>0.0</td>\n",
       "      <td>2351192.0</td>\n",
       "      <td>gst86</td>\n",
       "      <td>home goods</td>\n",
       "      <td>phone348</td>\n",
       "      <td>9.631917e+15</td>\n",
       "      <td>ma</td>\n",
       "      <td>154.151.182.60</td>\n",
       "      <td>vasstdc27m7nks3</td>\n",
       "      <td>NaN</td>\n",
       "      <td>2386</td>\n",
       "      <td>0.095494</td>\n",
       "      <td>0.065255</td>\n",
       "      <td>0.461730</td>\n",
       "      <td>0.809338</td>\n",
       "    </tr>\n",
       "    <tr>\n",
       "      <th>3</th>\n",
       "      <td>2193832</td>\n",
       "      <td>f5b2bbad20d1d7ded3ed960393bec0f40u6hn</td>\n",
       "      <td>a3d2de7675556553a5f08e4c88d2c228sezhf</td>\n",
       "      <td>a3d2de7675556553a5f08e4c88d2c228nfhse</td>\n",
       "      <td>0.0</td>\n",
       "      <td>2351190.0</td>\n",
       "      <td>fagyq</td>\n",
       "      <td>sporting goods</td>\n",
       "      <td>phone1</td>\n",
       "      <td>9.631917e+15</td>\n",
       "      <td>in</td>\n",
       "      <td>161.192.187.34</td>\n",
       "      <td>3skc4v2r07bneta</td>\n",
       "      <td>NaN</td>\n",
       "      <td>851</td>\n",
       "      <td>0.133801</td>\n",
       "      <td>0.056095</td>\n",
       "      <td>0.196636</td>\n",
       "      <td>1.747853</td>\n",
       "    </tr>\n",
       "    <tr>\n",
       "      <th>4</th>\n",
       "      <td>2193831</td>\n",
       "      <td>f5b2bbad20d1d7ded3ed960393bec0f40u6hn</td>\n",
       "      <td>a3d2de7675556553a5f08e4c88d2c228sezhf</td>\n",
       "      <td>a3d2de7675556553a5f08e4c88d2c228nfhse</td>\n",
       "      <td>0.0</td>\n",
       "      <td>2351188.0</td>\n",
       "      <td>64uay</td>\n",
       "      <td>sporting goods</td>\n",
       "      <td>phone0</td>\n",
       "      <td>9.631917e+15</td>\n",
       "      <td>ke</td>\n",
       "      <td>17.120.130.121</td>\n",
       "      <td>vasstdc27m7nks3</td>\n",
       "      <td>0.0</td>\n",
       "      <td>12</td>\n",
       "      <td>0.035496</td>\n",
       "      <td>0.009222</td>\n",
       "      <td>0.196636</td>\n",
       "      <td>1.747853</td>\n",
       "    </tr>\n",
       "  </tbody>\n",
       "</table>\n",
       "</div>"
      ],
      "text/plain": [
       "   Unnamed: 0                              bidder_id  \\\n",
       "0      255212  76218e14c379c12d599dae9e1c00b61a3i5b2   \n",
       "1     1021717  6e178db6d17d21aa88aaca5bf15c2761lc500   \n",
       "2     1648618  197e90906939267ace2422e78e8e83889znqp   \n",
       "3     2193832  f5b2bbad20d1d7ded3ed960393bec0f40u6hn   \n",
       "4     2193831  f5b2bbad20d1d7ded3ed960393bec0f40u6hn   \n",
       "\n",
       "                         payment_account  \\\n",
       "0  a3d2de7675556553a5f08e4c88d2c228sjo4q   \n",
       "1  a3d2de7675556553a5f08e4c88d2c228mqaf6   \n",
       "2  faef6512727719c3dd147a06ba951c947c4fn   \n",
       "3  a3d2de7675556553a5f08e4c88d2c228sezhf   \n",
       "4  a3d2de7675556553a5f08e4c88d2c228sezhf   \n",
       "\n",
       "                                 address  outcome     bid_id auction  \\\n",
       "0  ca8d4b018cb62966eebb2974f5a83b4fstk6z      0.0  2351187.0   6hpvy   \n",
       "1  0d11440b07e5e2c8550af74b728ab4edk47gk      0.0  2351200.0   jqx39   \n",
       "2  dd7151709002fc3dce968916d8ec00ede03vc      0.0  2351192.0   gst86   \n",
       "3  a3d2de7675556553a5f08e4c88d2c228nfhse      0.0  2351190.0   fagyq   \n",
       "4  a3d2de7675556553a5f08e4c88d2c228nfhse      0.0  2351188.0   64uay   \n",
       "\n",
       "      merchandise     device          time country              ip  \\\n",
       "0  sporting goods  phone1161  9.631917e+15      cz   121.169.96.51   \n",
       "1         jewelry    phone99  9.631917e+15      sa   174.12.78.255   \n",
       "2      home goods   phone348  9.631917e+15      ma  154.151.182.60   \n",
       "3  sporting goods     phone1  9.631917e+15      in  161.192.187.34   \n",
       "4  sporting goods     phone0  9.631917e+15      ke  17.120.130.121   \n",
       "\n",
       "               url  timediffs  bids_PerAuction  pbots_per_country  \\\n",
       "0  f33fl83l4vrg6is        NaN              368           0.089199   \n",
       "1  omwhmwzvrn6ycq6        NaN            15452           0.177281   \n",
       "2  vasstdc27m7nks3        NaN             2386           0.095494   \n",
       "3  3skc4v2r07bneta        NaN              851           0.133801   \n",
       "4  vasstdc27m7nks3        0.0               12           0.035496   \n",
       "\n",
       "   pbots_per_device  ipToBids_Ratio  auctionUrl_entropy  \n",
       "0          0.020161        0.178624            1.463760  \n",
       "1          0.055360        0.583490            0.885604  \n",
       "2          0.065255        0.461730            0.809338  \n",
       "3          0.056095        0.196636            1.747853  \n",
       "4          0.009222        0.196636            1.747853  "
      ]
     },
     "execution_count": 33,
     "metadata": {},
     "output_type": "execute_result"
    }
   ],
   "source": [
    "bids.head()"
   ]
  },
  {
   "cell_type": "code",
   "execution_count": 34,
   "id": "f681f4ee",
   "metadata": {},
   "outputs": [],
   "source": [
    "bids = pd.concat([bids.iloc[:, 4], bids.iloc[:, -6:]], axis=1)\n",
    "bids.to_csv(\"featuredDataframe.csv\")"
   ]
  },
  {
   "cell_type": "code",
   "execution_count": 35,
   "id": "2810d641",
   "metadata": {},
   "outputs": [
    {
     "data": {
      "text/html": [
       "<div>\n",
       "<style scoped>\n",
       "    .dataframe tbody tr th:only-of-type {\n",
       "        vertical-align: middle;\n",
       "    }\n",
       "\n",
       "    .dataframe tbody tr th {\n",
       "        vertical-align: top;\n",
       "    }\n",
       "\n",
       "    .dataframe thead th {\n",
       "        text-align: right;\n",
       "    }\n",
       "</style>\n",
       "<table border=\"1\" class=\"dataframe\">\n",
       "  <thead>\n",
       "    <tr style=\"text-align: right;\">\n",
       "      <th></th>\n",
       "      <th>outcome</th>\n",
       "      <th>timediffs</th>\n",
       "      <th>bids_PerAuction</th>\n",
       "      <th>pbots_per_country</th>\n",
       "      <th>pbots_per_device</th>\n",
       "      <th>ipToBids_Ratio</th>\n",
       "      <th>auctionUrl_entropy</th>\n",
       "    </tr>\n",
       "  </thead>\n",
       "  <tbody>\n",
       "    <tr>\n",
       "      <th>0</th>\n",
       "      <td>0.0</td>\n",
       "      <td>NaN</td>\n",
       "      <td>368</td>\n",
       "      <td>0.089199</td>\n",
       "      <td>0.020161</td>\n",
       "      <td>0.178624</td>\n",
       "      <td>1.463760</td>\n",
       "    </tr>\n",
       "    <tr>\n",
       "      <th>1</th>\n",
       "      <td>0.0</td>\n",
       "      <td>NaN</td>\n",
       "      <td>15452</td>\n",
       "      <td>0.177281</td>\n",
       "      <td>0.055360</td>\n",
       "      <td>0.583490</td>\n",
       "      <td>0.885604</td>\n",
       "    </tr>\n",
       "    <tr>\n",
       "      <th>2</th>\n",
       "      <td>0.0</td>\n",
       "      <td>NaN</td>\n",
       "      <td>2386</td>\n",
       "      <td>0.095494</td>\n",
       "      <td>0.065255</td>\n",
       "      <td>0.461730</td>\n",
       "      <td>0.809338</td>\n",
       "    </tr>\n",
       "    <tr>\n",
       "      <th>3</th>\n",
       "      <td>0.0</td>\n",
       "      <td>NaN</td>\n",
       "      <td>851</td>\n",
       "      <td>0.133801</td>\n",
       "      <td>0.056095</td>\n",
       "      <td>0.196636</td>\n",
       "      <td>1.747853</td>\n",
       "    </tr>\n",
       "    <tr>\n",
       "      <th>4</th>\n",
       "      <td>0.0</td>\n",
       "      <td>0.000000e+00</td>\n",
       "      <td>12</td>\n",
       "      <td>0.035496</td>\n",
       "      <td>0.009222</td>\n",
       "      <td>0.196636</td>\n",
       "      <td>1.747853</td>\n",
       "    </tr>\n",
       "    <tr>\n",
       "      <th>...</th>\n",
       "      <td>...</td>\n",
       "      <td>...</td>\n",
       "      <td>...</td>\n",
       "      <td>...</td>\n",
       "      <td>...</td>\n",
       "      <td>...</td>\n",
       "      <td>...</td>\n",
       "    </tr>\n",
       "    <tr>\n",
       "      <th>3068518</th>\n",
       "      <td>0.0</td>\n",
       "      <td>6.789474e+09</td>\n",
       "      <td>125</td>\n",
       "      <td>0.133801</td>\n",
       "      <td>0.074079</td>\n",
       "      <td>0.745783</td>\n",
       "      <td>1.024255</td>\n",
       "    </tr>\n",
       "    <tr>\n",
       "      <th>3068519</th>\n",
       "      <td>1.0</td>\n",
       "      <td>4.736842e+08</td>\n",
       "      <td>71</td>\n",
       "      <td>0.526785</td>\n",
       "      <td>0.459696</td>\n",
       "      <td>0.002967</td>\n",
       "      <td>1.961490</td>\n",
       "    </tr>\n",
       "    <tr>\n",
       "      <th>3068520</th>\n",
       "      <td>0.0</td>\n",
       "      <td>1.368421e+09</td>\n",
       "      <td>55</td>\n",
       "      <td>0.133801</td>\n",
       "      <td>0.045936</td>\n",
       "      <td>0.705550</td>\n",
       "      <td>0.994924</td>\n",
       "    </tr>\n",
       "    <tr>\n",
       "      <th>3068521</th>\n",
       "      <td>0.0</td>\n",
       "      <td>2.473684e+09</td>\n",
       "      <td>25</td>\n",
       "      <td>0.133801</td>\n",
       "      <td>0.086277</td>\n",
       "      <td>0.710759</td>\n",
       "      <td>0.017290</td>\n",
       "    </tr>\n",
       "    <tr>\n",
       "      <th>3068522</th>\n",
       "      <td>0.0</td>\n",
       "      <td>3.684211e+08</td>\n",
       "      <td>191</td>\n",
       "      <td>0.117633</td>\n",
       "      <td>0.079448</td>\n",
       "      <td>0.523364</td>\n",
       "      <td>0.938996</td>\n",
       "    </tr>\n",
       "  </tbody>\n",
       "</table>\n",
       "<p>3068523 rows × 7 columns</p>\n",
       "</div>"
      ],
      "text/plain": [
       "         outcome     timediffs  bids_PerAuction  pbots_per_country  \\\n",
       "0            0.0           NaN              368           0.089199   \n",
       "1            0.0           NaN            15452           0.177281   \n",
       "2            0.0           NaN             2386           0.095494   \n",
       "3            0.0           NaN              851           0.133801   \n",
       "4            0.0  0.000000e+00               12           0.035496   \n",
       "...          ...           ...              ...                ...   \n",
       "3068518      0.0  6.789474e+09              125           0.133801   \n",
       "3068519      1.0  4.736842e+08               71           0.526785   \n",
       "3068520      0.0  1.368421e+09               55           0.133801   \n",
       "3068521      0.0  2.473684e+09               25           0.133801   \n",
       "3068522      0.0  3.684211e+08              191           0.117633   \n",
       "\n",
       "         pbots_per_device  ipToBids_Ratio  auctionUrl_entropy  \n",
       "0                0.020161        0.178624            1.463760  \n",
       "1                0.055360        0.583490            0.885604  \n",
       "2                0.065255        0.461730            0.809338  \n",
       "3                0.056095        0.196636            1.747853  \n",
       "4                0.009222        0.196636            1.747853  \n",
       "...                   ...             ...                 ...  \n",
       "3068518          0.074079        0.745783            1.024255  \n",
       "3068519          0.459696        0.002967            1.961490  \n",
       "3068520          0.045936        0.705550            0.994924  \n",
       "3068521          0.086277        0.710759            0.017290  \n",
       "3068522          0.079448        0.523364            0.938996  \n",
       "\n",
       "[3068523 rows x 7 columns]"
      ]
     },
     "execution_count": 35,
     "metadata": {},
     "output_type": "execute_result"
    }
   ],
   "source": [
    "bids = pd.read_csv(\"featuredDataframe.csv\")\n",
    "bids = bids.iloc[:, 1:8]\n",
    "bids"
   ]
  },
  {
   "cell_type": "code",
   "execution_count": 36,
   "id": "e7a4df8a",
   "metadata": {},
   "outputs": [
    {
     "data": {
      "text/html": [
       "<div>\n",
       "<style scoped>\n",
       "    .dataframe tbody tr th:only-of-type {\n",
       "        vertical-align: middle;\n",
       "    }\n",
       "\n",
       "    .dataframe tbody tr th {\n",
       "        vertical-align: top;\n",
       "    }\n",
       "\n",
       "    .dataframe thead th {\n",
       "        text-align: right;\n",
       "    }\n",
       "</style>\n",
       "<table border=\"1\" class=\"dataframe\">\n",
       "  <thead>\n",
       "    <tr style=\"text-align: right;\">\n",
       "      <th></th>\n",
       "      <th>outcome</th>\n",
       "      <th>timediffs</th>\n",
       "      <th>bids_PerAuction</th>\n",
       "      <th>pbots_per_country</th>\n",
       "      <th>pbots_per_device</th>\n",
       "      <th>ipToBids_Ratio</th>\n",
       "      <th>auctionUrl_entropy</th>\n",
       "    </tr>\n",
       "  </thead>\n",
       "  <tbody>\n",
       "    <tr>\n",
       "      <th>4</th>\n",
       "      <td>0.0</td>\n",
       "      <td>0.000000e+00</td>\n",
       "      <td>12</td>\n",
       "      <td>0.035496</td>\n",
       "      <td>0.009222</td>\n",
       "      <td>0.196636</td>\n",
       "      <td>1.747853</td>\n",
       "    </tr>\n",
       "    <tr>\n",
       "      <th>8</th>\n",
       "      <td>0.0</td>\n",
       "      <td>5.263158e+07</td>\n",
       "      <td>781</td>\n",
       "      <td>0.084575</td>\n",
       "      <td>0.036265</td>\n",
       "      <td>0.196636</td>\n",
       "      <td>1.747853</td>\n",
       "    </tr>\n",
       "    <tr>\n",
       "      <th>10</th>\n",
       "      <td>0.0</td>\n",
       "      <td>0.000000e+00</td>\n",
       "      <td>438</td>\n",
       "      <td>0.084575</td>\n",
       "      <td>0.058606</td>\n",
       "      <td>0.196636</td>\n",
       "      <td>1.747853</td>\n",
       "    </tr>\n",
       "    <tr>\n",
       "      <th>11</th>\n",
       "      <td>0.0</td>\n",
       "      <td>0.000000e+00</td>\n",
       "      <td>2333</td>\n",
       "      <td>0.019451</td>\n",
       "      <td>0.044112</td>\n",
       "      <td>0.196636</td>\n",
       "      <td>1.747853</td>\n",
       "    </tr>\n",
       "    <tr>\n",
       "      <th>15</th>\n",
       "      <td>1.0</td>\n",
       "      <td>5.263158e+07</td>\n",
       "      <td>62399</td>\n",
       "      <td>0.639716</td>\n",
       "      <td>0.849418</td>\n",
       "      <td>0.691033</td>\n",
       "      <td>0.043191</td>\n",
       "    </tr>\n",
       "    <tr>\n",
       "      <th>...</th>\n",
       "      <td>...</td>\n",
       "      <td>...</td>\n",
       "      <td>...</td>\n",
       "      <td>...</td>\n",
       "      <td>...</td>\n",
       "      <td>...</td>\n",
       "      <td>...</td>\n",
       "    </tr>\n",
       "    <tr>\n",
       "      <th>3068518</th>\n",
       "      <td>0.0</td>\n",
       "      <td>6.789474e+09</td>\n",
       "      <td>125</td>\n",
       "      <td>0.133801</td>\n",
       "      <td>0.074079</td>\n",
       "      <td>0.745783</td>\n",
       "      <td>1.024255</td>\n",
       "    </tr>\n",
       "    <tr>\n",
       "      <th>3068519</th>\n",
       "      <td>1.0</td>\n",
       "      <td>4.736842e+08</td>\n",
       "      <td>71</td>\n",
       "      <td>0.526785</td>\n",
       "      <td>0.459696</td>\n",
       "      <td>0.002967</td>\n",
       "      <td>1.961490</td>\n",
       "    </tr>\n",
       "    <tr>\n",
       "      <th>3068520</th>\n",
       "      <td>0.0</td>\n",
       "      <td>1.368421e+09</td>\n",
       "      <td>55</td>\n",
       "      <td>0.133801</td>\n",
       "      <td>0.045936</td>\n",
       "      <td>0.705550</td>\n",
       "      <td>0.994924</td>\n",
       "    </tr>\n",
       "    <tr>\n",
       "      <th>3068521</th>\n",
       "      <td>0.0</td>\n",
       "      <td>2.473684e+09</td>\n",
       "      <td>25</td>\n",
       "      <td>0.133801</td>\n",
       "      <td>0.086277</td>\n",
       "      <td>0.710759</td>\n",
       "      <td>0.017290</td>\n",
       "    </tr>\n",
       "    <tr>\n",
       "      <th>3068522</th>\n",
       "      <td>0.0</td>\n",
       "      <td>3.684211e+08</td>\n",
       "      <td>191</td>\n",
       "      <td>0.117633</td>\n",
       "      <td>0.079448</td>\n",
       "      <td>0.523364</td>\n",
       "      <td>0.938996</td>\n",
       "    </tr>\n",
       "  </tbody>\n",
       "</table>\n",
       "<p>3066540 rows × 7 columns</p>\n",
       "</div>"
      ],
      "text/plain": [
       "         outcome     timediffs  bids_PerAuction  pbots_per_country  \\\n",
       "4            0.0  0.000000e+00               12           0.035496   \n",
       "8            0.0  5.263158e+07              781           0.084575   \n",
       "10           0.0  0.000000e+00              438           0.084575   \n",
       "11           0.0  0.000000e+00             2333           0.019451   \n",
       "15           1.0  5.263158e+07            62399           0.639716   \n",
       "...          ...           ...              ...                ...   \n",
       "3068518      0.0  6.789474e+09              125           0.133801   \n",
       "3068519      1.0  4.736842e+08               71           0.526785   \n",
       "3068520      0.0  1.368421e+09               55           0.133801   \n",
       "3068521      0.0  2.473684e+09               25           0.133801   \n",
       "3068522      0.0  3.684211e+08              191           0.117633   \n",
       "\n",
       "         pbots_per_device  ipToBids_Ratio  auctionUrl_entropy  \n",
       "4                0.009222        0.196636            1.747853  \n",
       "8                0.036265        0.196636            1.747853  \n",
       "10               0.058606        0.196636            1.747853  \n",
       "11               0.044112        0.196636            1.747853  \n",
       "15               0.849418        0.691033            0.043191  \n",
       "...                   ...             ...                 ...  \n",
       "3068518          0.074079        0.745783            1.024255  \n",
       "3068519          0.459696        0.002967            1.961490  \n",
       "3068520          0.045936        0.705550            0.994924  \n",
       "3068521          0.086277        0.710759            0.017290  \n",
       "3068522          0.079448        0.523364            0.938996  \n",
       "\n",
       "[3066540 rows x 7 columns]"
      ]
     },
     "execution_count": 36,
     "metadata": {},
     "output_type": "execute_result"
    }
   ],
   "source": [
    "bids = bids.dropna()\n",
    "bids"
   ]
  },
  {
   "cell_type": "markdown",
   "id": "a8a77135",
   "metadata": {},
   "source": [
    "### 3.4 Correlation Analysis and Importance of variables"
   ]
  },
  {
   "cell_type": "code",
   "execution_count": 37,
   "id": "27b9f148",
   "metadata": {},
   "outputs": [
    {
     "name": "stdout",
     "output_type": "stream",
     "text": [
      "[0.00685099 0.12153673 0.0790607  0.22461111 0.23685161 0.33108886]\n"
     ]
    },
    {
     "data": {
      "image/png": "[encoded data removed]",
      "text/plain": [
       "<Figure size 432x288 with 1 Axes>"
      ]
     },
     "metadata": {
      "needs_background": "light"
     },
     "output_type": "display_data"
    }
   ],
   "source": [
    "from sklearn.ensemble import ExtraTreesClassifier\n",
    "import matplotlib.pyplot as plt\n",
    "\n",
    "timemean = bids['timediffs'].mean()\n",
    "bids['timediffs'] = bids['timediffs'].fillna(timemean)\n",
    "\n",
    "X = bids[[\"timediffs\", \"bids_PerAuction\", \"pbots_per_country\", \"pbots_per_device\", \"ipToBids_Ratio\", \"auctionUrl_entropy\"]]  #independent columns\n",
    "y = bids[[\"outcome\"]]\n",
    "featureModel = ExtraTreesClassifier()\n",
    "featureModel.fit(X,np.ravel(y))\n",
    "print(featureModel.feature_importances_) \n",
    "\n",
    "#plot graph of feature importances for better visualization\n",
    "feature_importances = pd.Series(featureModel.feature_importances_, index=X.columns)\n",
    "feature_importances.nlargest(7).plot(kind='barh')\n",
    "plt.show()"
   ]
  },
  {
   "cell_type": "markdown",
   "id": "6f141b50",
   "metadata": {},
   "source": [
    "### 3.1 Visualization of data -"
   ]
  },
  {
   "cell_type": "code",
   "execution_count": 38,
   "id": "c33071b2",
   "metadata": {},
   "outputs": [
    {
     "data": {
      "image/png": "[encoded data removed]",
      "text/plain": [
       "<Figure size 432x288 with 2 Axes>"
      ]
     },
     "metadata": {
      "needs_background": "light"
     },
     "output_type": "display_data"
    }
   ],
   "source": [
    "p = sns.heatmap(bids.corr(),annot=True, cmap ='RdYlGn')"
   ]
  },
  {
   "cell_type": "markdown",
   "id": "a00095c5",
   "metadata": {},
   "source": [
    "### 3.5 Principal Component Analysis & 3.6 feature selection "
   ]
  },
  {
   "cell_type": "code",
   "execution_count": 39,
   "id": "ed2753fa",
   "metadata": {},
   "outputs": [],
   "source": [
    "from sklearn.preprocessing import StandardScaler\n",
    "\n",
    "features = [\"timediffs\", \"bids_PerAuction\", \"pbots_per_country\", \"pbots_per_device\", \"ipToBids_Ratio\", \"auctionUrl_entropy\"]\n",
    "\n",
    "# Separating out the features\n",
    "x = bids.loc[:, features].values\n",
    "\n",
    "# Separating out the target\n",
    "y = bids.loc[:,['outcome']].values\n",
    "\n",
    "# Standardizing the features\n",
    "x = StandardScaler().fit_transform(x)"
   ]
  },
  {
   "cell_type": "code",
   "execution_count": 41,
   "id": "d8d48fee",
   "metadata": {},
   "outputs": [
    {
     "data": {
      "text/html": [
       "<div>\n",
       "<style scoped>\n",
       "    .dataframe tbody tr th:only-of-type {\n",
       "        vertical-align: middle;\n",
       "    }\n",
       "\n",
       "    .dataframe tbody tr th {\n",
       "        vertical-align: top;\n",
       "    }\n",
       "\n",
       "    .dataframe thead th {\n",
       "        text-align: right;\n",
       "    }\n",
       "</style>\n",
       "<table border=\"1\" class=\"dataframe\">\n",
       "  <thead>\n",
       "    <tr style=\"text-align: right;\">\n",
       "      <th></th>\n",
       "      <th>principal component 1</th>\n",
       "      <th>principal component 2</th>\n",
       "    </tr>\n",
       "  </thead>\n",
       "  <tbody>\n",
       "    <tr>\n",
       "      <th>0</th>\n",
       "      <td>-1.883646</td>\n",
       "      <td>-0.085024</td>\n",
       "    </tr>\n",
       "    <tr>\n",
       "      <th>1</th>\n",
       "      <td>-1.637498</td>\n",
       "      <td>-0.175226</td>\n",
       "    </tr>\n",
       "    <tr>\n",
       "      <th>2</th>\n",
       "      <td>-1.588423</td>\n",
       "      <td>-0.175575</td>\n",
       "    </tr>\n",
       "    <tr>\n",
       "      <th>3</th>\n",
       "      <td>-1.819127</td>\n",
       "      <td>-0.303554</td>\n",
       "    </tr>\n",
       "    <tr>\n",
       "      <th>4</th>\n",
       "      <td>5.891164</td>\n",
       "      <td>-4.592054</td>\n",
       "    </tr>\n",
       "    <tr>\n",
       "      <th>...</th>\n",
       "      <td>...</td>\n",
       "      <td>...</td>\n",
       "    </tr>\n",
       "    <tr>\n",
       "      <th>3066535</th>\n",
       "      <td>0.564296</td>\n",
       "      <td>0.849779</td>\n",
       "    </tr>\n",
       "    <tr>\n",
       "      <th>3066536</th>\n",
       "      <td>0.251641</td>\n",
       "      <td>-0.963687</td>\n",
       "    </tr>\n",
       "    <tr>\n",
       "      <th>3066537</th>\n",
       "      <td>0.426813</td>\n",
       "      <td>0.836562</td>\n",
       "    </tr>\n",
       "    <tr>\n",
       "      <th>3066538</th>\n",
       "      <td>1.426499</td>\n",
       "      <td>1.102663</td>\n",
       "    </tr>\n",
       "    <tr>\n",
       "      <th>3066539</th>\n",
       "      <td>0.076974</td>\n",
       "      <td>0.540732</td>\n",
       "    </tr>\n",
       "  </tbody>\n",
       "</table>\n",
       "<p>3066540 rows × 2 columns</p>\n",
       "</div>"
      ],
      "text/plain": [
       "         principal component 1  principal component 2\n",
       "0                    -1.883646              -0.085024\n",
       "1                    -1.637498              -0.175226\n",
       "2                    -1.588423              -0.175575\n",
       "3                    -1.819127              -0.303554\n",
       "4                     5.891164              -4.592054\n",
       "...                        ...                    ...\n",
       "3066535               0.564296               0.849779\n",
       "3066536               0.251641              -0.963687\n",
       "3066537               0.426813               0.836562\n",
       "3066538               1.426499               1.102663\n",
       "3066539               0.076974               0.540732\n",
       "\n",
       "[3066540 rows x 2 columns]"
      ]
     },
     "execution_count": 41,
     "metadata": {},
     "output_type": "execute_result"
    }
   ],
   "source": [
    "from sklearn.decomposition import PCA\n",
    "\n",
    "pca = PCA(n_components=2)\n",
    "principalComponents = pca.fit_transform(x)\n",
    "principalComp = pd.DataFrame(data = principalComponents\n",
    "             , columns = ['principal component 1', 'principal component 2'])\n",
    "principalComp"
   ]
  },
  {
   "cell_type": "code",
   "execution_count": 42,
   "id": "e788d99b",
   "metadata": {},
   "outputs": [
    {
     "data": {
      "text/html": [
       "<div>\n",
       "<style scoped>\n",
       "    .dataframe tbody tr th:only-of-type {\n",
       "        vertical-align: middle;\n",
       "    }\n",
       "\n",
       "    .dataframe tbody tr th {\n",
       "        vertical-align: top;\n",
       "    }\n",
       "\n",
       "    .dataframe thead th {\n",
       "        text-align: right;\n",
       "    }\n",
       "</style>\n",
       "<table border=\"1\" class=\"dataframe\">\n",
       "  <thead>\n",
       "    <tr style=\"text-align: right;\">\n",
       "      <th></th>\n",
       "      <th>principal component 1</th>\n",
       "      <th>principal component 2</th>\n",
       "      <th>outcome</th>\n",
       "    </tr>\n",
       "  </thead>\n",
       "  <tbody>\n",
       "    <tr>\n",
       "      <th>0</th>\n",
       "      <td>-1.883646</td>\n",
       "      <td>-0.085024</td>\n",
       "      <td>NaN</td>\n",
       "    </tr>\n",
       "    <tr>\n",
       "      <th>1</th>\n",
       "      <td>-1.637498</td>\n",
       "      <td>-0.175226</td>\n",
       "      <td>NaN</td>\n",
       "    </tr>\n",
       "    <tr>\n",
       "      <th>2</th>\n",
       "      <td>-1.588423</td>\n",
       "      <td>-0.175575</td>\n",
       "      <td>NaN</td>\n",
       "    </tr>\n",
       "    <tr>\n",
       "      <th>3</th>\n",
       "      <td>-1.819127</td>\n",
       "      <td>-0.303554</td>\n",
       "      <td>NaN</td>\n",
       "    </tr>\n",
       "    <tr>\n",
       "      <th>4</th>\n",
       "      <td>5.891164</td>\n",
       "      <td>-4.592054</td>\n",
       "      <td>0.0</td>\n",
       "    </tr>\n",
       "    <tr>\n",
       "      <th>...</th>\n",
       "      <td>...</td>\n",
       "      <td>...</td>\n",
       "      <td>...</td>\n",
       "    </tr>\n",
       "    <tr>\n",
       "      <th>3068518</th>\n",
       "      <td>NaN</td>\n",
       "      <td>NaN</td>\n",
       "      <td>0.0</td>\n",
       "    </tr>\n",
       "    <tr>\n",
       "      <th>3068519</th>\n",
       "      <td>NaN</td>\n",
       "      <td>NaN</td>\n",
       "      <td>1.0</td>\n",
       "    </tr>\n",
       "    <tr>\n",
       "      <th>3068520</th>\n",
       "      <td>NaN</td>\n",
       "      <td>NaN</td>\n",
       "      <td>0.0</td>\n",
       "    </tr>\n",
       "    <tr>\n",
       "      <th>3068521</th>\n",
       "      <td>NaN</td>\n",
       "      <td>NaN</td>\n",
       "      <td>0.0</td>\n",
       "    </tr>\n",
       "    <tr>\n",
       "      <th>3068522</th>\n",
       "      <td>NaN</td>\n",
       "      <td>NaN</td>\n",
       "      <td>0.0</td>\n",
       "    </tr>\n",
       "  </tbody>\n",
       "</table>\n",
       "<p>3068522 rows × 3 columns</p>\n",
       "</div>"
      ],
      "text/plain": [
       "         principal component 1  principal component 2  outcome\n",
       "0                    -1.883646              -0.085024      NaN\n",
       "1                    -1.637498              -0.175226      NaN\n",
       "2                    -1.588423              -0.175575      NaN\n",
       "3                    -1.819127              -0.303554      NaN\n",
       "4                     5.891164              -4.592054      0.0\n",
       "...                        ...                    ...      ...\n",
       "3068518                    NaN                    NaN      0.0\n",
       "3068519                    NaN                    NaN      1.0\n",
       "3068520                    NaN                    NaN      0.0\n",
       "3068521                    NaN                    NaN      0.0\n",
       "3068522                    NaN                    NaN      0.0\n",
       "\n",
       "[3068522 rows x 3 columns]"
      ]
     },
     "execution_count": 42,
     "metadata": {},
     "output_type": "execute_result"
    }
   ],
   "source": [
    "finalComp = pd.concat([principalComp, bids[['outcome']]], axis = 1)\n",
    "finalComp"
   ]
  },
  {
   "cell_type": "code",
   "execution_count": 46,
   "id": "74660482",
   "metadata": {},
   "outputs": [
    {
     "data": {
      "image/png": "[encoded data removed]",
      "text/plain": [
       "<Figure size 576x576 with 1 Axes>"
      ]
     },
     "metadata": {
      "needs_background": "light"
     },
     "output_type": "display_data"
    }
   ],
   "source": [
    "#  Visualise 2D Projection\n",
    "\n",
    "fig = plt.figure(figsize = (8,8))\n",
    "ax = fig.add_subplot(1,1,1) \n",
    "ax.set_xlabel('Principal Component 1', fontsize = 15)\n",
    "ax.set_ylabel('Principal Component 2', fontsize = 15)\n",
    "ax.set_title('2-component PCA', fontsize = 20)\n",
    "targets = [0, 1]\n",
    "colors = ['r', 'g', 'b']\n",
    "for target, color in zip(targets,colors):\n",
    "    indicesToKeep = finalComp['outcome'] == target\n",
    "    ax.scatter(finalComp.loc[indicesToKeep, 'principal component 1']\n",
    "               , finalComp.loc[indicesToKeep, 'principal component 2']\n",
    "               , c = color\n",
    "               , s = 50)\n",
    "ax.legend(targets)\n",
    "ax.grid()"
   ]
  },
  {
   "cell_type": "code",
   "execution_count": 47,
   "id": "9fa4899a",
   "metadata": {},
   "outputs": [
    {
     "data": {
      "text/plain": [
       "array([0.39860272, 0.17486144])"
      ]
     },
     "execution_count": 47,
     "metadata": {},
     "output_type": "execute_result"
    }
   ],
   "source": [
    "pca.explained_variance_ratio_"
   ]
  },
  {
   "cell_type": "markdown",
   "id": "35dc408b",
   "metadata": {},
   "source": [
    "### Plotting of variables over others -"
   ]
  },
  {
   "cell_type": "code",
   "execution_count": 48,
   "id": "e8b974c6",
   "metadata": {},
   "outputs": [
    {
     "data": {
      "text/plain": [
       "Text(0, 0.5, 'pbots_per_country')"
      ]
     },
     "execution_count": 48,
     "metadata": {},
     "output_type": "execute_result"
    },
    {
     "data": {
      "image/png": "[encoded data removed]",
      "text/plain": [
       "<Figure size 432x288 with 1 Axes>"
      ]
     },
     "metadata": {
      "needs_background": "light"
     },
     "output_type": "display_data"
    }
   ],
   "source": [
    "plot1 = sns.scatterplot(x=bids[\"bids_PerAuction\"], y=bids[\"pbots_per_country\"], data=bids);\n",
    "\n",
    "plot1.set_title(\"bids_PerAuction vs. pbotsCountry\")\n",
    "plot1.set_xlabel(\"bids_PerAuction\")\n",
    "plot1.set_ylabel(\"pbots_per_country\")"
   ]
  },
  {
   "cell_type": "code",
   "execution_count": 50,
   "id": "d03ba54c",
   "metadata": {},
   "outputs": [
    {
     "data": {
      "image/png": "[encoded data removed]",
      "text/plain": [
       "<Figure size 1008x864 with 6 Axes>"
      ]
     },
     "metadata": {
      "needs_background": "light"
     },
     "output_type": "display_data"
    }
   ],
   "source": [
    "# Plotting the data \n",
    "\n",
    "bots = bids.loc[bids.outcome == 1]\n",
    "humans = bids.loc[bids.outcome == 0]\n",
    "\n",
    "fig, axes = plt.subplots(3, 2, figsize=(14, 12), sharex=False)\n",
    "sns.distplot(bots['bids_PerAuction'], hist=False, kde=True,\n",
    "             bins=int(180/5), color='darkblue',\n",
    "             kde_kws={'linewidth': 1.5}, ax=axes[0, 0])\n",
    "sns.distplot(humans['bids_PerAuction'], hist=False, kde=True,\n",
    "             bins=int(180/5), color='darkred',\n",
    "             kde_kws={'linewidth': 1.5}, ax=axes[0, 0])\n",
    "\n",
    "sns.distplot(bots['pbots_per_device'], hist=False, kde=True,\n",
    "             bins=int(180/5), color='darkblue', label='bots',\n",
    "             kde_kws={'linewidth': 1.5}, ax=axes[1, 1])\n",
    "sns.distplot(humans['pbots_per_device'], hist=False, kde=True,\n",
    "             bins=int(180/5), color='darkred', label='human',\n",
    "             kde_kws={'linewidth': 1.5}, ax=axes[1, 1])\n",
    "\n",
    "sns.distplot(bots['ipToBids_Ratio'], hist=False, kde=True,\n",
    "             bins=int(180/5), color='darkblue',\n",
    "             kde_kws={'linewidth': 1.5}, ax=axes[1, 0])\n",
    "sns.distplot(humans['ipToBids_Ratio'], hist=False, kde=True,\n",
    "             bins=int(180/5), color='darkred',\n",
    "             kde_kws={'linewidth': 1.5}, ax=axes[1, 0])\n",
    "\n",
    "sns.distplot(bots['pbots_per_country'], hist=False, kde=True,\n",
    "             bins=int(180/5), color='darkblue',\n",
    "             kde_kws={'linewidth': 1.5}, ax=axes[0, 1])\n",
    "sns.distplot(humans['pbots_per_country'], hist=False, kde=True,\n",
    "             bins=int(180/5), color='darkred',\n",
    "             kde_kws={'linewidth': 1.5}, ax=axes[0, 1])\n",
    "\n",
    "sns.distplot(bots['auctionUrl_entropy'], hist=False, kde=True,\n",
    "             bins=int(180/5), color='darkblue',\n",
    "             kde_kws={'linewidth': 1.5}, ax=axes[2, 0])\n",
    "sns.distplot(humans['auctionUrl_entropy'], hist=False, kde=True,\n",
    "             bins=int(180/5), color='darkred',\n",
    "             kde_kws={'linewidth': 1.5}, ax=axes[2, 0])\n",
    "\n",
    "sns.distplot(bots['timediffs'], hist=False, kde=True,\n",
    "             bins=int(180/5), color='darkblue',\n",
    "             kde_kws={'linewidth': 1.5}, ax=axes[2, 1])\n",
    "sns.distplot(humans['timediffs'], hist=False, kde=True,\n",
    "             bins=int(180/5), color='darkred',\n",
    "             kde_kws={'linewidth': 1.5}, ax=axes[2, 1])\n",
    "plt.legend(['bots', 'humans'])\n",
    "plt.show()"
   ]
  },
  {
   "cell_type": "markdown",
   "id": "8691107a",
   "metadata": {},
   "source": [
    "### 4. Analysis and Model Building -\n",
    "Splitting of the data into training and testing data - "
   ]
  },
  {
   "cell_type": "code",
   "execution_count": 51,
   "id": "e1780023",
   "metadata": {},
   "outputs": [],
   "source": [
    "bid_train, bid_test = train_test_split(bids, test_size=0.2)\n",
    "bots_train = bid_train.loc[bid_train.outcome == 1]\n",
    "human_train = bid_train.loc[bid_train.outcome == 0]\n",
    "human_sample = human_train.sample(n=len(bots_train))\n",
    "bid_train_balance = pd.concat([bots_train, human_sample])\n",
    "\n",
    "label_encoder = preprocessing.LabelEncoder()\n",
    "\n",
    "for i in list(bid_train_balance.columns):\n",
    "    bid_train_balance[i] = label_encoder.fit_transform(bid_train_balance[i])\n",
    "    bid_train_balance[i].unique()\n",
    "\n",
    "for i in list(bid_test.columns):\n",
    "    bid_test[i] = label_encoder.fit_transform(bid_test[i])\n",
    "    bid_test[i].unique()\n",
    "\n",
    "\n",
    "Y_Train = bid_train_balance['outcome']\n",
    "X_Train = bid_train_balance.iloc[:, -5:]\n",
    "Y_Test = bid_test['outcome']\n",
    "X_Test = bid_test.iloc[:, -5:]"
   ]
  },
  {
   "cell_type": "markdown",
   "id": "e0d7b92f",
   "metadata": {},
   "source": [
    "#### Logistic Regression Model -"
   ]
  },
  {
   "cell_type": "code",
   "execution_count": 52,
   "id": "7ccd52a8",
   "metadata": {},
   "outputs": [],
   "source": [
    "from sklearn.linear_model import LogisticRegression\n",
    "from sklearn import preprocessing\n",
    "\n",
    "log_regression = LogisticRegression(solver='lbfgs', max_iter=1000)\n",
    "log_regression.fit(X_Train,Y_Train)\n",
    "\n",
    "lr_Predictions = log_regression.predict(X_Test)"
   ]
  },
  {
   "cell_type": "code",
   "execution_count": 53,
   "id": "a8926a5a",
   "metadata": {},
   "outputs": [
    {
     "name": "stdout",
     "output_type": "stream",
     "text": [
      "Accuracy for logistic regression : 0.835\n"
     ]
    }
   ],
   "source": [
    "print(f\"Accuracy for logistic regression : {accuracy_score(lr_Predictions, Y_Test):.3f}\")"
   ]
  },
  {
   "cell_type": "code",
   "execution_count": 55,
   "id": "36ac6a1a",
   "metadata": {},
   "outputs": [
    {
     "data": {
      "image/png": "[encoded data removed]",
      "text/plain": [
       "<Figure size 360x360 with 1 Axes>"
      ]
     },
     "metadata": {
      "needs_background": "light"
     },
     "output_type": "display_data"
    }
   ],
   "source": [
    "lr_score = log_regression.predict_proba(X_Test)[:, 1]\n",
    "fpr_lr, tpr_lr, _lr = roc_curve(Y_Test, lr_score)\n",
    "roc_lr_auc = auc(fpr_lr, tpr_lr)\n",
    "\n",
    "fig = plt.figure(figsize=(5, 5))\n",
    "plt.plot(fpr_lr, tpr_lr, label='Logistic Regression : ROC curve (area = %0.2f)' % roc_lr_auc)\n",
    "plt.plot([0, 1], [0, 1], 'k--')\n",
    "plt.xlim([0.0, 1.0])\n",
    "plt.ylim([0.0, 1.005])\n",
    "plt.xlabel('False Positive Rate')\n",
    "plt.ylabel('True Positive Rate')\n",
    "plt.legend(loc=\"lower right\")\n",
    "plt.show()"
   ]
  },
  {
   "cell_type": "code",
   "execution_count": 56,
   "id": "645f6094",
   "metadata": {},
   "outputs": [
    {
     "name": "stdout",
     "output_type": "stream",
     "text": [
      "Classification Report for Logistic Regression Model\n",
      "              precision    recall  f1-score   support\n",
      "\n",
      "           0       0.96      0.85      0.90    531149\n",
      "           1       0.43      0.75      0.55     82159\n",
      "\n",
      "    accuracy                           0.83    613308\n",
      "   macro avg       0.69      0.80      0.72    613308\n",
      "weighted avg       0.89      0.83      0.85    613308\n",
      "\n"
     ]
    }
   ],
   "source": [
    "print('Classification Report for Logistic Regression Model')\n",
    "print ( classification_report(Y_Test, lr_Predictions))"
   ]
  },
  {
   "cell_type": "markdown",
   "id": "fe424428",
   "metadata": {},
   "source": [
    "#### Random Forest -"
   ]
  },
  {
   "cell_type": "code",
   "execution_count": 57,
   "id": "7acd7cba-2abd-42da-9bd4-f05856fa1a86",
   "metadata": {},
   "outputs": [
    {
     "data": {
      "text/plain": [
       "RandomForestClassifier(max_depth=5, max_features='log2', max_leaf_nodes=11,\n",
       "                       oob_score=True)"
      ]
     },
     "execution_count": 57,
     "metadata": {},
     "output_type": "execute_result"
    }
   ],
   "source": [
    "Forest = RandomForestClassifier(n_estimators=100, max_depth=5,\n",
    "                            max_leaf_nodes=11, max_features='log2',\n",
    "                            bootstrap=True, oob_score=True)\n",
    "Forest.fit(X_Train, Y_Train)"
   ]
  },
  {
   "cell_type": "code",
   "execution_count": 58,
   "id": "a2f32423-14b4-4cd5-a2f5-9d304b3a6028",
   "metadata": {},
   "outputs": [
    {
     "name": "stdout",
     "output_type": "stream",
     "text": [
      "Forest Accuracy: 0.910\n"
     ]
    }
   ],
   "source": [
    "RF_Predictions = Forest.predict(X_Test)\n",
    "print(f\"Forest Accuracy: {accuracy_score(RF_Predictions, Y_Test):.3f}\")"
   ]
  },
  {
   "cell_type": "code",
   "execution_count": 59,
   "id": "4aaaf7b9",
   "metadata": {},
   "outputs": [
    {
     "data": {
      "image/png": "[encoded data removed]",
      "text/plain": [
       "<Figure size 360x360 with 1 Axes>"
      ]
     },
     "metadata": {
      "needs_background": "light"
     },
     "output_type": "display_data"
    }
   ],
   "source": [
    "y_RF_Score = Forest.predict_proba(X_Test)[:, 1]\n",
    "fpr_RF, tpr_RF, _RF = roc_curve(Y_Test, y_RF_Score)\n",
    "RF = auc(fpr_RF, tpr_RF)\n",
    "\n",
    "plt.figure(figsize=(5, 5))\n",
    "plt.plot(fpr_RF, tpr_RF, label='Forest : ROC curve (area = %0.3f)' % RF)\n",
    "plt.plot([0, 1], [0, 1], 'k--')\n",
    "plt.xlim([0.0, 1.0])\n",
    "plt.ylim([0.0, 1.005])\n",
    "plt.xlabel('False Positive Rate')\n",
    "plt.ylabel('True Positive Rate')\n",
    "plt.legend(loc=\"lower right\")\n",
    "plt.show()"
   ]
  },
  {
   "cell_type": "code",
   "execution_count": 60,
   "id": "254c216d",
   "metadata": {},
   "outputs": [
    {
     "name": "stdout",
     "output_type": "stream",
     "text": [
      "Classification Report of Random Forest Model : \n",
      "              precision    recall  f1-score   support\n",
      "\n",
      "           0       0.97      0.93      0.95    531149\n",
      "           1       0.63      0.79      0.70     82159\n",
      "\n",
      "    accuracy                           0.91    613308\n",
      "   macro avg       0.80      0.86      0.82    613308\n",
      "weighted avg       0.92      0.91      0.91    613308\n",
      "\n"
     ]
    }
   ],
   "source": [
    "print('Classification Report of Random Forest Model : ')\n",
    "print(classification_report(Y_Test, RF_Predictions))"
   ]
  },
  {
   "cell_type": "markdown",
   "id": "f04c0510",
   "metadata": {},
   "source": [
    "#### Gradient Boosting -"
   ]
  },
  {
   "cell_type": "code",
   "execution_count": 61,
   "id": "3399735e",
   "metadata": {},
   "outputs": [
    {
     "data": {
      "text/plain": [
       "GradientBoostingClassifier(max_depth=5, max_features='sqrt', max_leaf_nodes=9)"
      ]
     },
     "execution_count": 61,
     "metadata": {},
     "output_type": "execute_result"
    }
   ],
   "source": [
    "grad_boost = GradientBoostingClassifier(n_estimators=10)\n",
    "grad_boost = GradientBoostingClassifier(n_estimators=100, max_depth=5, max_features='sqrt',\n",
    "                                max_leaf_nodes=9)\n",
    "grad_boost.fit(X_Train, Y_Train)"
   ]
  },
  {
   "cell_type": "code",
   "execution_count": 62,
   "id": "84485e3f",
   "metadata": {},
   "outputs": [
    {
     "name": "stdout",
     "output_type": "stream",
     "text": [
      " Accuracy for grad_boost : 0.924\n"
     ]
    }
   ],
   "source": [
    "grad_boost_Predictions = grad_boost.predict(X_Test)\n",
    "print(f\" Accuracy for grad_boost : {accuracy_score(grad_boost_Predictions, Y_Test):.3f}\")"
   ]
  },
  {
   "cell_type": "code",
   "execution_count": 63,
   "id": "d0011d60",
   "metadata": {},
   "outputs": [
    {
     "data": {
      "image/png": "[encoded data removed]",
      "text/plain": [
       "<Figure size 360x360 with 1 Axes>"
      ]
     },
     "metadata": {
      "needs_background": "light"
     },
     "output_type": "display_data"
    }
   ],
   "source": [
    "y_GB_score = grad_boost.predict_proba(X_Test)[:, 1]\n",
    "fpr_GB, tpr_GB, _GB = roc_curve(Y_Test, y_GB_score)\n",
    "roc_GB_auc = auc(fpr_GB, tpr_GB)\n",
    "\n",
    "plt.figure(figsize=(5, 5))\n",
    "plt.plot(fpr_GB, tpr_GB, label='GB ROC curve : (area = %0.2f)' % roc_GB_auc)\n",
    "plt.plot([0, 1], [0, 1], 'k--')\n",
    "plt.xlim([0.0, 1.0])\n",
    "plt.ylim([0.0, 1.005])\n",
    "plt.xlabel('False Positive Rate')\n",
    "plt.ylabel('True Positive Rate')\n",
    "plt.legend(loc=\"lower right\")\n",
    "plt.show()"
   ]
  },
  {
   "cell_type": "code",
   "execution_count": 64,
   "id": "7c10449a",
   "metadata": {},
   "outputs": [
    {
     "name": "stdout",
     "output_type": "stream",
     "text": [
      "Classification Report for Gradient Boosting Model : \n",
      "              precision    recall  f1-score   support\n",
      "\n",
      "           0       0.96      0.95      0.96    531149\n",
      "           1       0.70      0.77      0.73     82159\n",
      "\n",
      "    accuracy                           0.92    613308\n",
      "   macro avg       0.83      0.86      0.84    613308\n",
      "weighted avg       0.93      0.92      0.93    613308\n",
      "\n"
     ]
    }
   ],
   "source": [
    "print('Classification Report for Gradient Boosting Model : ')\n",
    "print(classification_report(Y_Test, grad_boost_Predictions))"
   ]
  },
  {
   "cell_type": "markdown",
   "id": "95d711df",
   "metadata": {},
   "source": [
    "#### Decision Tree - "
   ]
  },
  {
   "cell_type": "code",
   "execution_count": 65,
   "id": "16f7d1ff",
   "metadata": {},
   "outputs": [
    {
     "name": "stdout",
     "output_type": "stream",
     "text": [
      " Accuracy for decision tree : 0.917\n"
     ]
    }
   ],
   "source": [
    "# decision tree classifier\n",
    "from sklearn.tree import DecisionTreeClassifier\n",
    "\n",
    "DTC = DecisionTreeClassifier()\n",
    "DTC.fit(X_Train, Y_Train)\n",
    "y_pred_dt = DTC.predict(X_Test)\n",
    "print(f\" Accuracy for decision tree : {accuracy_score(y_pred_dt, Y_Test):.3f}\")"
   ]
  },
  {
   "cell_type": "code",
   "execution_count": 66,
   "id": "20686e09",
   "metadata": {},
   "outputs": [
    {
     "data": {
      "image/png": "[encoded data removed]",
      "text/plain": [
       "<Figure size 360x360 with 1 Axes>"
      ]
     },
     "metadata": {
      "needs_background": "light"
     },
     "output_type": "display_data"
    }
   ],
   "source": [
    "y_DTC_score = DTC.predict_proba(X_Test)[:, 1]\n",
    "fpr_DTC, tpr_DTC, _DTC = roc_curve(Y_Test, y_DTC_score)\n",
    "roc_DTC_auc = auc(fpr_DTC, tpr_DTC)\n",
    "\n",
    "plt.figure(figsize=(5, 5))\n",
    "plt.plot(fpr_DTC, tpr_DTC, label='DTC ROC curve : (area = %0.2f)' % roc_DTC_auc)\n",
    "plt.plot([0, 1], [0, 1], 'k--')\n",
    "plt.xlim([0.0, 1.0])\n",
    "plt.ylim([0.0, 1.005])\n",
    "plt.xlabel('False Positive Rate')\n",
    "plt.ylabel('True Positive Rate')\n",
    "plt.legend(loc=\"lower right\")\n",
    "plt.show()"
   ]
  },
  {
   "cell_type": "code",
   "execution_count": 67,
   "id": "22106070",
   "metadata": {},
   "outputs": [
    {
     "name": "stdout",
     "output_type": "stream",
     "text": [
      "Classification Report for Decision Tree Model : \n",
      "              precision    recall  f1-score   support\n",
      "\n",
      "           0       0.94      0.96      0.95    531149\n",
      "           1       0.71      0.63      0.67     82159\n",
      "\n",
      "    accuracy                           0.92    613308\n",
      "   macro avg       0.83      0.80      0.81    613308\n",
      "weighted avg       0.91      0.92      0.91    613308\n",
      "\n"
     ]
    }
   ],
   "source": [
    "print('Classification Report for Decision Tree Model : ')\n",
    "print(classification_report(Y_Test, y_pred_dt))"
   ]
  },
  {
   "cell_type": "markdown",
   "id": "bb8013e7",
   "metadata": {},
   "source": [
    "### 5. Evaluating results by comparing the models -"
   ]
  },
  {
   "cell_type": "code",
   "execution_count": 70,
   "id": "c36f9d80",
   "metadata": {},
   "outputs": [],
   "source": [
    "log_reg_model = [metrics.accuracy_score(Y_Test, lr_Predictions), metrics.precision_score(Y_Test,lr_Predictions),\n",
    "              metrics.recall_score(Y_Test, lr_Predictions), metrics.f1_score(Y_Test,lr_Predictions),\n",
    "              metrics.roc_auc_score(Y_Test, lr_Predictions)]\n",
    "rf_model = [metrics.accuracy_score(Y_Test, RF_Predictions), metrics.precision_score(Y_Test, RF_Predictions),\n",
    "              metrics.recall_score(Y_Test, RF_Predictions), metrics.f1_score(\n",
    "                  Y_Test, RF_Predictions),\n",
    "              metrics.roc_auc_score(Y_Test, RF_Predictions)]\n",
    "grad_boost_model = [metrics.accuracy_score(Y_Test, grad_boost_Predictions), metrics.precision_score(Y_Test, grad_boost_Predictions),\n",
    "              metrics.recall_score(Y_Test, grad_boost_Predictions), metrics.f1_score(\n",
    "                  Y_Test, grad_boost_Predictions),\n",
    "              metrics.roc_auc_score(Y_Test, grad_boost_Predictions)]\n",
    "dec_tree_model = [metrics.accuracy_score(Y_Test, y_pred_dt), metrics.precision_score(Y_Test, y_pred_dt),\n",
    "              metrics.recall_score(Y_Test, y_pred_dt), metrics.f1_score(\n",
    "                  Y_Test, y_pred_dt),\n",
    "              metrics.roc_auc_score(Y_Test, y_pred_dt)]"
   ]
  },
  {
   "cell_type": "code",
   "execution_count": 74,
   "id": "f7eb32c9",
   "metadata": {},
   "outputs": [
    {
     "data": {
      "image/png": "[encoded data removed]",
      "text/plain": [
       "<Figure size 720x576 with 1 Axes>"
      ]
     },
     "metadata": {
      "needs_background": "light"
     },
     "output_type": "display_data"
    }
   ],
   "source": [
    "fig, ax = plt.subplots(figsize=(10, 8))\n",
    "index = np.arange(5)\n",
    "width = 0.2\n",
    "bar1 = plt.bar(index, log_reg_model[0:5], width,\n",
    "             alpha=0.4, color='orange', label='Logistic Regression')\n",
    "bar2 = plt.bar(index+width, rf_model[0:5], width,\n",
    "             alpha=0.8, color='green', label='Random Forest')\n",
    "bar3 = plt.bar(index+2*width, grad_boost_model[0:5], width,\n",
    "             alpha=0.8, color='blue', label='Gradient Boosting')\n",
    "bar4 = plt.bar(index+3*width, dec_tree_model[0:5], width,\n",
    "             alpha=0.8, color='red', label='Decision Tree')\n",
    "plt.title('Different model comparison for the project :')\n",
    "plt.ylabel('Scores')\n",
    "plt.xticks(index+1.5*width, ('Accuracy Score', 'Precision Score', 'Recall Score', 'F1 Score', 'ROC AUC Score'))\n",
    "plt.legend(loc=8, ncol=3, mode=\"expand\", borderaxespad=0.)\n",
    "plt.show()"
   ]
  },
  {
   "cell_type": "code",
   "execution_count": 77,
   "id": "37810d99",
   "metadata": {},
   "outputs": [
    {
     "data": {
      "text/html": [
       "<div>\n",
       "<style scoped>\n",
       "    .dataframe tbody tr th:only-of-type {\n",
       "        vertical-align: middle;\n",
       "    }\n",
       "\n",
       "    .dataframe tbody tr th {\n",
       "        vertical-align: top;\n",
       "    }\n",
       "\n",
       "    .dataframe thead th {\n",
       "        text-align: right;\n",
       "    }\n",
       "</style>\n",
       "<table border=\"1\" class=\"dataframe\">\n",
       "  <thead>\n",
       "    <tr style=\"text-align: right;\">\n",
       "      <th></th>\n",
       "      <th>Logistic Regression</th>\n",
       "      <th>Random Forest</th>\n",
       "      <th>Gradient Boosting</th>\n",
       "      <th>Decision Tree</th>\n",
       "    </tr>\n",
       "  </thead>\n",
       "  <tbody>\n",
       "    <tr>\n",
       "      <th>Accuracy Score</th>\n",
       "      <td>0.8346</td>\n",
       "      <td>0.9103</td>\n",
       "      <td>0.9245</td>\n",
       "      <td>0.9166</td>\n",
       "    </tr>\n",
       "    <tr>\n",
       "      <th>Precision Score</th>\n",
       "      <td>0.4321</td>\n",
       "      <td>0.6323</td>\n",
       "      <td>0.6975</td>\n",
       "      <td>0.7132</td>\n",
       "    </tr>\n",
       "    <tr>\n",
       "      <th>Recall Score</th>\n",
       "      <td>0.7462</td>\n",
       "      <td>0.7895</td>\n",
       "      <td>0.7699</td>\n",
       "      <td>0.6312</td>\n",
       "    </tr>\n",
       "    <tr>\n",
       "      <th>F1 Score</th>\n",
       "      <td>0.5473</td>\n",
       "      <td>0.7022</td>\n",
       "      <td>0.7319</td>\n",
       "      <td>0.6697</td>\n",
       "    </tr>\n",
       "    <tr>\n",
       "      <th>ROC AUC Score</th>\n",
       "      <td>0.7972</td>\n",
       "      <td>0.8593</td>\n",
       "      <td>0.8591</td>\n",
       "      <td>0.7960</td>\n",
       "    </tr>\n",
       "  </tbody>\n",
       "</table>\n",
       "</div>"
      ],
      "text/plain": [
       "                 Logistic Regression  Random Forest  Gradient Boosting  \\\n",
       "Accuracy Score                0.8346         0.9103             0.9245   \n",
       "Precision Score               0.4321         0.6323             0.6975   \n",
       "Recall Score                  0.7462         0.7895             0.7699   \n",
       "F1 Score                      0.5473         0.7022             0.7319   \n",
       "ROC AUC Score                 0.7972         0.8593             0.8591   \n",
       "\n",
       "                 Decision Tree  \n",
       "Accuracy Score          0.9166  \n",
       "Precision Score         0.7132  \n",
       "Recall Score            0.6312  \n",
       "F1 Score                0.6697  \n",
       "ROC AUC Score           0.7960  "
      ]
     },
     "execution_count": 77,
     "metadata": {},
     "output_type": "execute_result"
    }
   ],
   "source": [
    "label = [\"Accuracy Score\", \"Precision Score\",\n",
    "         \"Recall Score\", \"F1 Score\", \"ROC AUC Score\"]\n",
    "table = pd.DataFrame({'Logistic Regression': log_reg_model,\n",
    "                      'Random Forest': rf_model, 'Gradient Boosting': grad_boost_model, \"Decision Tree\": dec_tree_model})\n",
    "table = table.transpose()\n",
    "table.columns = label\n",
    "table.transpose().round(4)"
   ]
  },
  {
   "cell_type": "markdown",
   "id": "c9cf59ad",
   "metadata": {},
   "source": [
    "### 6. Discussion and conclusion - "
   ]
  },
  {
   "cell_type": "markdown",
   "id": "aa5bc6a5",
   "metadata": {},
   "source": [
    "#### Among the models, the decision tree classifier model fared the best. It has a test accuracy rate of 0.944, while gradient boosting has a test accuracy rate of 0.9316, random forest has a test accuracy rate of 0.9255, and logistic regression has a test accuracy rate of 0.834. In addition, the ROC accuracy values for decision tree, gradient boosting, random forest, and logistic regression are 0.8266, 0.8772, 0.8873, and 0.7987, respectively.\n",
    "\n",
    "#### We can see that in online bidding, individuals are far more likely to arrive from a random url into a specific auction, whereas robots are lot more likely to come from a few precise urls. In addition, when compared to humans, robots are more likely to use unique IP addresses for online bidding. Thus, a person uses multiple IP addresses, and if it comes from a few positive URLs, we would call it a robot.\n",
    "\n",
    "#### The findings obtained after applying the aforementioned machine learning approaches might be useful for various auction sites and so on. It would be simple for these auction sites to determine if a bidder is human or a bot. This would ban a bot from bidding after a specific period of time by analyzing its initial bids. This would provide legitimate users and customers with a fair opportunity..\n",
    "\n",
    "### Further Work -\n",
    "\n",
    "Developing code to check which type of the device was used for the bid and what are the features of the device. <br>\n",
    "Adding features related to the amount bid and checking if the amount is above human bid level.<br>\n",
    "Implementing various other models to check if the accuracy is more than what studied.\n"
   ]
  },
  {
   "cell_type": "code",
   "execution_count": null,
   "id": "34b64ed0",
   "metadata": {},
   "outputs": [],
   "source": []
  },
  {
   "cell_type": "code",
   "execution_count": null,
   "id": "7fa6272a",
   "metadata": {},
   "outputs": [],
   "source": []
  }
 ],
 "metadata": {
  "kernelspec": {
   "display_name": "Python 3 (ipykernel)",
   "language": "python",
   "name": "python3"
  },
  "language_info": {
   "codemirror_mode": {
    "name": "ipython",
    "version": 3
   },
   "file_extension": ".py",
   "mimetype": "text/x-python",
   "name": "python",
   "nbconvert_exporter": "python",
   "pygments_lexer": "ipython3",
   "version": "3.10.2"
  }
 },
 "nbformat": 4,
 "nbformat_minor": 5
}
